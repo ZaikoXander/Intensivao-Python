{
 "cells": [
  {
   "cell_type": "markdown",
   "metadata": {},
   "source": [
    "# Análise de Dados com Python\n",
    "\n",
    "### Desafio:\n",
    "\n",
    "Você trabalha em uma empresa de telecom e tem clientes de vários serviços diferentes, entre os principais: internet e telefone.\n",
    "\n",
    "O problema é que, analisando o histórico dos clientes dos últimos anos, você percebeu que a empresa está com Churn de mais de 26% dos clientes.\n",
    "\n",
    "Isso representa uma perda de milhões para a empresa.\n",
    "\n",
    "O que a empresa precisa fazer para resolver isso?\n",
    "\n",
    "Base de Dados: https://drive.google.com/drive/folders/1T7D0BlWkNuy_MDpUHuBG44kT80EmRYIs?usp=sharing <br>\n",
    "Link Original do Kaggle: https://www.kaggle.com/radmirzosimov/telecom-users-dataset"
   ]
  },
  {
   "cell_type": "code",
   "execution_count": 1,
   "metadata": {},
   "outputs": [
    {
     "name": "stdout",
     "output_type": "stream",
     "text": [
      "Collecting plotly\n",
      "  Downloading plotly-5.5.0-py2.py3-none-any.whl (26.5 MB)\n",
      "Collecting tenacity>=6.2.0\n",
      "  Downloading tenacity-8.0.1-py3-none-any.whl (24 kB)\n",
      "Requirement already satisfied: six in c:\\users\\zikka\\appdata\\local\\programs\\python\\python310\\lib\\site-packages (from plotly) (1.16.0)\n",
      "Installing collected packages: tenacity, plotly\n",
      "Successfully installed plotly-5.5.0 tenacity-8.0.1\n",
      "Note: you may need to restart the kernel to use updated packages.\n"
     ]
    }
   ],
   "source": []
  },
  {
   "cell_type": "markdown",
   "metadata": {},
   "source": [
    "### Conclusões e Ações"
   ]
  },
  {
   "cell_type": "markdown",
   "metadata": {},
   "source": [
    "Escreva aqui suas conclusões:"
   ]
  },
  {
   "cell_type": "markdown",
   "metadata": {},
   "source": [
    "Análise de Dados chega em você como um desafio.\n",
    "A base de dados muitas vezes vai vir com problemas. E você terá que corrigir esses erros.\n",
    "Você tem que confirmar as hipoteses(problemas relatados pela empresa).\n",
    "E terá que analisar a causa do problema caso as hipoteses sejam verdadeiras.\n",
    "\n",
    "Base de Dados? pandas SEMPRE\n",
    "\n",
    "Churn é quando alguém cancela a assinatura.\n",
    "* Tratamento de Dados\n",
    "    * Informação que não te ajuda, te atrapalha.\n",
    "        * Coluna inútil\n",
    "            * 0 => linha\n",
    "            * 1 => coluna\n",
    "        * Valores reconhecidos de forma errada\n",
    "            * Sempre depois de tirar valores inúteis, o seguinte é identificar valores reconhecidos de forma errada.\n",
    "            * object => texto\n",
    "            * int => número inteiro\n",
    "            * float => número com casa decimal\n",
    "        * Valores vazios(NaN)\n",
    "            * Excluir colunas vazias\n",
    "            * Excluir linhas vazias\n",
    "    * Ver se seu chefe ta errado kkk\n",
    "        * 26% -- 2,6%\n",
    "    * No final de tudo o que você quer é encontrar um padrão(causa).\n",
    "        * Encontrar algo que salta os olhos\n",
    "            * Pessoas com famílias menores tem mais chance de cancelar\n",
    "                * Podemos criar um plano família para diminuir a taxa de cancelamento\n",
    "            * Estamos perdendo muitos clientes nos primeiros meses\n",
    "                * Tem alguma ação promocional que tá trazendo muito cliente desqualificado\n",
    "                * Podemos pensar em dar bônus pro cliente nos primeiros meses\n",
    "                * A 1ª experiência do cliente pode estar sendo muito ruim\n",
    "            * Estamos com um problema na Fibra\n",
    "                * Podemos arruma sadisgraça\n",
    "            * Quanto mais serviços o cliente tem menor a chance dele cancelar\n",
    "                * Podemos fazer promoções com mais serviços pro cliente\n",
    "            * Forma de pagamento\n",
    "                * Evitar boleto eletronico, vamos dar desconto nas outras opções"
   ]
  }
 ],
 "metadata": {
  "kernelspec": {
   "display_name": "Python 3",
   "language": "python",
   "name": "python3"
  },
  "language_info": {
   "codemirror_mode": {
    "name": "ipython",
    "version": 3
   },
   "file_extension": ".py",
   "mimetype": "text/x-python",
   "name": "python",
   "nbconvert_exporter": "python",
   "pygments_lexer": "ipython3",
   "version": "3.8.8"
  }
 },
 "nbformat": 4,
 "nbformat_minor": 4
}
